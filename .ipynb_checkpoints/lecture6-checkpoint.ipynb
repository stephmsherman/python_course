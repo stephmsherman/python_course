{
 "cells": [
  {
   "cell_type": "code",
   "execution_count": 6,
   "metadata": {
    "collapsed": true
   },
   "outputs": [],
   "source": [
    "import pandas as pd\n",
    "import glob"
   ]
  },
  {
   "cell_type": "markdown",
   "metadata": {},
   "source": [
    "You ran a research study to test whether performance on a reaction times task improved with the administration of caffeine. \n",
    "\n",
    "40 participants completed the Psychomotor Vigilance Task (PVT). sub01 through sub20 were given caffeine and sub21 through sub40 were not given caffeine\n",
    "\n",
    "Description of Task: PVT (Dinges & Powell, 1985) is a high-signal load reaction time test in which participants attend to a small rectangular area at the center of a computer screen. At random intervals, a millisecond timer appears in the center of the rectangle (2 to 5 second inter-trial intervals). Participants are instructed to respond via button press as rapidly as possible upon detection of the counter stimulus; participant response stops the counter from updating. The final counter value corresponds to the participant’s reaction time (RT) and is displayed on-screen for 1 second, thus providing feedback for that particular trial. Participants will be given 2 seconds to make a response before the computer aborts a trial. \n",
    "\n",
    "The PVT data for all 40 participants is in the pvt_data.zip file on canvas. Each file (i.e. sub01.csv) includes the raw data for that participant. \n",
    "\n",
    "All files include 4 columns- sub (subject number), condition (caffeine or no_caffeine), trials (trial number), RT (reaction times in milliseconds). Every participant completed 100 trials of the task.\n",
    "\n",
    "RESEARCH QUESTION: Your goal today is to find out whether reaction times differ across the two groups (caffeinated, decaffeinated)\n",
    "We will be completing ALL of these steps in python (NO editing in excel)"
   ]
  },
  {
   "cell_type": "code",
   "execution_count": 9,
   "metadata": {
    "collapsed": true
   },
   "outputs": [],
   "source": [
    "############Step 1###################\n",
    "#Write a loop that combines the individual participant files into one file called pvt_all\n",
    "\n",
    "#First fill in the path variable below with wherever you put the pvt_data folder on your computer (i.e. ~/Desktop)\n",
    "path=\"pvt_data/\""
   ]
  },
  {
   "cell_type": "code",
   "execution_count": 11,
   "metadata": {
    "collapsed": false
   },
   "outputs": [
    {
     "data": {
      "text/plain": [
       "'pvt_data/sub*.csv'"
      ]
     },
     "execution_count": 11,
     "metadata": {},
     "output_type": "execute_result"
    }
   ],
   "source": [
    "#put a plus sign\n",
    "path + \"sub*.csv\""
   ]
  },
  {
   "cell_type": "code",
   "execution_count": 14,
   "metadata": {
    "collapsed": false
   },
   "outputs": [
    {
     "data": {
      "text/plain": [
       "'pvt_data/sub*.csv'"
      ]
     },
     "execution_count": 14,
     "metadata": {},
     "output_type": "execute_result"
    }
   ],
   "source": [
    "files= path + \"sub*.csv\"\n",
    "files\n",
    "\n",
    "# our goal here is create paths to files for each participants\n",
    "# the * is the only part of the file path that is unique for each participant\n",
    "# in other words - the files for each participant all have the same path and name except after sub there is a UNIQUE subject number"
   ]
  },
  {
   "cell_type": "code",
   "execution_count": null,
   "metadata": {
    "collapsed": true
   },
   "outputs": [],
   "source": [
    "#We are going to glob.glob so that the * can be read as a \"wildcard\"\n",
    "glob.glob()\n",
    "#What the wildcard does is to print everything that has a path that starts with sub and ends with .csv"
   ]
  },
  {
   "cell_type": "code",
   "execution_count": 15,
   "metadata": {
    "collapsed": false
   },
   "outputs": [
    {
     "data": {
      "text/plain": [
       "['pvt_data/sub01.csv',\n",
       " 'pvt_data/sub02.csv',\n",
       " 'pvt_data/sub03.csv',\n",
       " 'pvt_data/sub04.csv',\n",
       " 'pvt_data/sub05.csv',\n",
       " 'pvt_data/sub06.csv',\n",
       " 'pvt_data/sub07.csv',\n",
       " 'pvt_data/sub08.csv',\n",
       " 'pvt_data/sub09.csv',\n",
       " 'pvt_data/sub10.csv',\n",
       " 'pvt_data/sub11.csv',\n",
       " 'pvt_data/sub12.csv',\n",
       " 'pvt_data/sub13.csv',\n",
       " 'pvt_data/sub14.csv',\n",
       " 'pvt_data/sub15.csv',\n",
       " 'pvt_data/sub16.csv',\n",
       " 'pvt_data/sub17.csv',\n",
       " 'pvt_data/sub18.csv',\n",
       " 'pvt_data/sub19.csv',\n",
       " 'pvt_data/sub20.csv',\n",
       " 'pvt_data/sub21.csv',\n",
       " 'pvt_data/sub22.csv',\n",
       " 'pvt_data/sub23.csv',\n",
       " 'pvt_data/sub24.csv',\n",
       " 'pvt_data/sub25.csv',\n",
       " 'pvt_data/sub26.csv',\n",
       " 'pvt_data/sub27.csv',\n",
       " 'pvt_data/sub28.csv',\n",
       " 'pvt_data/sub29.csv',\n",
       " 'pvt_data/sub30.csv',\n",
       " 'pvt_data/sub31.csv',\n",
       " 'pvt_data/sub32.csv',\n",
       " 'pvt_data/sub33.csv',\n",
       " 'pvt_data/sub34.csv',\n",
       " 'pvt_data/sub35.csv',\n",
       " 'pvt_data/sub36.csv',\n",
       " 'pvt_data/sub37.csv',\n",
       " 'pvt_data/sub38.csv',\n",
       " 'pvt_data/sub39.csv',\n",
       " 'pvt_data/sub40.csv']"
      ]
     },
     "execution_count": 15,
     "metadata": {},
     "output_type": "execute_result"
    }
   ],
   "source": [
    "#Look how adding the star can help\n",
    "glob.glob(files)"
   ]
  },
  {
   "cell_type": "code",
   "execution_count": 16,
   "metadata": {
    "collapsed": false
   },
   "outputs": [
    {
     "data": {
      "text/plain": [
       "40"
      ]
     },
     "execution_count": 16,
     "metadata": {},
     "output_type": "execute_result"
    }
   ],
   "source": [
    "#now you have a list of all the files you want to combine\n",
    "sub_paths=glob.glob(files)\n",
    "len(sub_paths)"
   ]
  },
  {
   "cell_type": "code",
   "execution_count": 17,
   "metadata": {
    "collapsed": false
   },
   "outputs": [
    {
     "data": {
      "text/plain": [
       "'pvt_data/sub28.csv'"
      ]
     },
     "execution_count": 17,
     "metadata": {},
     "output_type": "execute_result"
    }
   ],
   "source": [
    "#look how I get the path for sub27\n",
    "#subset the vector\n",
    "sub_paths[27]\n",
    "#you see how you can use sub_paths[i] in a loop?"
   ]
  },
  {
   "cell_type": "code",
   "execution_count": 19,
   "metadata": {
    "collapsed": false
   },
   "outputs": [
    {
     "data": {
      "text/html": [
       "<div>\n",
       "<table border=\"1\" class=\"dataframe\">\n",
       "  <thead>\n",
       "    <tr style=\"text-align: right;\">\n",
       "      <th></th>\n",
       "    </tr>\n",
       "  </thead>\n",
       "  <tbody>\n",
       "  </tbody>\n",
       "</table>\n",
       "</div>"
      ],
      "text/plain": [
       "Empty DataFrame\n",
       "Columns: []\n",
       "Index: []"
      ]
     },
     "execution_count": 19,
     "metadata": {},
     "output_type": "execute_result"
    }
   ],
   "source": [
    "#create an empty data frame called pvt_all\n",
    "pvt_all=pd.DataFrame()\n",
    "pvt_all"
   ]
  },
  {
   "cell_type": "code",
   "execution_count": null,
   "metadata": {
    "collapsed": true
   },
   "outputs": [],
   "source": [
    "#read in all participant files and combine\n",
    "#remember we want to combine all 40 files so we want the sequence to be from 1:40 or\n"
   ]
  },
  {
   "cell_type": "code",
   "execution_count": 21,
   "metadata": {
    "collapsed": false
   },
   "outputs": [
    {
     "name": "stdout",
     "output_type": "stream",
     "text": [
      "     sub condition  trials   RT\n",
      "0  sub01  caffeine       1  216\n",
      "1  sub01  caffeine       2   97\n",
      "2  sub01  caffeine       3  365\n",
      "3  sub01  caffeine       4  353\n",
      "4  sub01  caffeine       5  253\n",
      "     sub condition  trials   RT\n",
      "0  sub02  caffeine       1  199\n",
      "1  sub02  caffeine       2  234\n",
      "2  sub02  caffeine       3  351\n",
      "3  sub02  caffeine       4  249\n",
      "4  sub02  caffeine       5  293\n",
      "     sub condition  trials   RT\n",
      "0  sub03  caffeine       1  319\n",
      "1  sub03  caffeine       2  199\n",
      "2  sub03  caffeine       3  337\n",
      "3  sub03  caffeine       4  212\n",
      "4  sub03  caffeine       5  229\n",
      "     sub condition  trials   RT\n",
      "0  sub04  caffeine       1  225\n",
      "1  sub04  caffeine       2  292\n",
      "2  sub04  caffeine       3  255\n",
      "3  sub04  caffeine       4  251\n",
      "4  sub04  caffeine       5  259\n",
      "     sub condition  trials   RT\n",
      "0  sub05  caffeine       1  368\n",
      "1  sub05  caffeine       2  218\n",
      "2  sub05  caffeine       3  259\n",
      "3  sub05  caffeine       4  360\n",
      "4  sub05  caffeine       5  366\n",
      "     sub condition  trials   RT\n",
      "0  sub06  caffeine       1  327\n",
      "1  sub06  caffeine       2  310\n",
      "2  sub06  caffeine       3  202\n",
      "3  sub06  caffeine       4  352\n",
      "4  sub06  caffeine       5  358\n",
      "     sub condition  trials   RT\n",
      "0  sub07  caffeine       1  331\n",
      "1  sub07  caffeine       2  257\n",
      "2  sub07  caffeine       3  225\n",
      "3  sub07  caffeine       4  262\n",
      "4  sub07  caffeine       5  194\n",
      "     sub condition  trials   RT\n",
      "0  sub08  caffeine       1  215\n",
      "1  sub08  caffeine       2  342\n",
      "2  sub08  caffeine       3  244\n",
      "3  sub08  caffeine       4  313\n",
      "4  sub08  caffeine       5  301\n",
      "     sub condition  trials   RT\n",
      "0  sub09  caffeine       1  208\n",
      "1  sub09  caffeine       2  317\n",
      "2  sub09  caffeine       3  213\n",
      "3  sub09  caffeine       4  252\n",
      "4  sub09  caffeine       5  215\n",
      "     sub condition  trials   RT\n",
      "0  sub10  caffeine       1  386\n",
      "1  sub10  caffeine       2  196\n",
      "2  sub10  caffeine       3  372\n",
      "3  sub10  caffeine       4  183\n",
      "4  sub10  caffeine       5  351\n",
      "     sub condition  trials   RT\n",
      "0  sub11  caffeine       1  306\n",
      "1  sub11  caffeine       2  344\n",
      "2  sub11  caffeine       3  310\n",
      "3  sub11  caffeine       4  380\n",
      "4  sub11  caffeine       5  384\n",
      "     sub condition  trials   RT\n",
      "0  sub12  caffeine       1  320\n",
      "1  sub12  caffeine       2  298\n",
      "2  sub12  caffeine       3  324\n",
      "3  sub12  caffeine       4  381\n",
      "4  sub12  caffeine       5  315\n",
      "     sub condition  trials   RT\n",
      "0  sub13  caffeine       1  231\n",
      "1  sub13  caffeine       2  307\n",
      "2  sub13  caffeine       3  356\n",
      "3  sub13  caffeine       4  228\n",
      "4  sub13  caffeine       5  239\n",
      "     sub condition  trials   RT\n",
      "0  sub14  caffeine       1  266\n",
      "1  sub14  caffeine       2  202\n",
      "2  sub14  caffeine       3  370\n",
      "3  sub14  caffeine       4  395\n",
      "4  sub14  caffeine       5  203\n",
      "     sub condition  trials   RT\n",
      "0  sub15  caffeine       1  379\n",
      "1  sub15  caffeine       2  262\n",
      "2  sub15  caffeine       3  201\n",
      "3  sub15  caffeine       4  221\n",
      "4  sub15  caffeine       5  193\n",
      "     sub condition  trials   RT\n",
      "0  sub16  caffeine       1  268\n",
      "1  sub16  caffeine       2  363\n",
      "2  sub16  caffeine       3  262\n",
      "3  sub16  caffeine       4  228\n",
      "4  sub16  caffeine       5  225\n",
      "     sub condition  trials   RT\n",
      "0  sub17  caffeine       1  258\n",
      "1  sub17  caffeine       2  387\n",
      "2  sub17  caffeine       3  365\n",
      "3  sub17  caffeine       4  374\n",
      "4  sub17  caffeine       5  189\n",
      "     sub condition  trials   RT\n",
      "0  sub18  caffeine       1  359\n",
      "1  sub18  caffeine       2  266\n",
      "2  sub18  caffeine       3  397\n",
      "3  sub18  caffeine       4  312\n",
      "4  sub18  caffeine       5  359\n",
      "     sub condition  trials   RT\n",
      "0  sub19  caffeine       1  322\n",
      "1  sub19  caffeine       2  301\n",
      "2  sub19  caffeine       3  269\n",
      "3  sub19  caffeine       4  240\n",
      "4  sub19  caffeine       5  326\n",
      "     sub condition  trials   RT\n",
      "0  sub20  caffeine       1  240\n",
      "1  sub20  caffeine       2  219\n",
      "2  sub20  caffeine       3  185\n",
      "3  sub20  caffeine       4  346\n",
      "4  sub20  caffeine       5  266\n",
      "     sub    condition  trials   RT\n",
      "0  sub21  no_caffeine       1  219\n",
      "1  sub21  no_caffeine       2  390\n",
      "2  sub21  no_caffeine       3  183\n",
      "3  sub21  no_caffeine       4  289\n",
      "4  sub21  no_caffeine       5  204\n",
      "     sub    condition  trials   RT\n",
      "0  sub22  no_caffeine       1  206\n",
      "1  sub22  no_caffeine       2  256\n",
      "2  sub22  no_caffeine       3  275\n",
      "3  sub22  no_caffeine       4  350\n",
      "4  sub22  no_caffeine       5  309\n",
      "     sub    condition  trials   RT\n",
      "0  sub23  no_caffeine       1  234\n",
      "1  sub23  no_caffeine       2  348\n",
      "2  sub23  no_caffeine       3  356\n",
      "3  sub23  no_caffeine       4  288\n",
      "4  sub23  no_caffeine       5  301\n",
      "     sub    condition  trials   RT\n",
      "0  sub24  no_caffeine       1  205\n",
      "1  sub24  no_caffeine       2  324\n",
      "2  sub24  no_caffeine       3  218\n",
      "3  sub24  no_caffeine       4  346\n",
      "4  sub24  no_caffeine       5  285\n",
      "     sub    condition  trials   RT\n",
      "0  sub25  no_caffeine       1  283\n",
      "1  sub25  no_caffeine       2  211\n",
      "2  sub25  no_caffeine       3  335\n",
      "3  sub25  no_caffeine       4  304\n",
      "4  sub25  no_caffeine       5  299\n",
      "     sub    condition  trials   RT\n",
      "0  sub26  no_caffeine       1  285\n",
      "1  sub26  no_caffeine       2  340\n",
      "2  sub26  no_caffeine       3  275\n",
      "3  sub26  no_caffeine       4  318\n",
      "4  sub26  no_caffeine       5  268\n",
      "     sub    condition  trials   RT\n",
      "0  sub27  no_caffeine       1  339\n",
      "1  sub27  no_caffeine       2  212\n",
      "2  sub27  no_caffeine       3  351\n",
      "3  sub27  no_caffeine       4  262\n",
      "4  sub27  no_caffeine       5  339\n",
      "     sub    condition  trials   RT\n",
      "0  sub28  no_caffeine       1  290\n",
      "1  sub28  no_caffeine       2  335\n",
      "2  sub28  no_caffeine       3  205\n",
      "3  sub28  no_caffeine       4  247\n",
      "4  sub28  no_caffeine       5  355\n",
      "     sub    condition  trials   RT\n",
      "0  sub29  no_caffeine       1  345\n",
      "1  sub29  no_caffeine       2  201\n",
      "2  sub29  no_caffeine       3  418\n",
      "3  sub29  no_caffeine       4  300\n",
      "4  sub29  no_caffeine       5  285\n",
      "     sub    condition  trials   RT\n",
      "0  sub30  no_caffeine       1  329\n",
      "1  sub30  no_caffeine       2  353\n",
      "2  sub30  no_caffeine       3  352\n",
      "3  sub30  no_caffeine       4  332\n",
      "4  sub30  no_caffeine       5  397\n",
      "     sub    condition  trials   RT\n",
      "0  sub31  no_caffeine       1  267\n",
      "1  sub31  no_caffeine       2  412\n",
      "2  sub31  no_caffeine       3  220\n",
      "3  sub31  no_caffeine       4  261\n",
      "4  sub31  no_caffeine       5  292\n",
      "     sub    condition  trials   RT\n",
      "0  sub32  no_caffeine       1  381\n",
      "1  sub32  no_caffeine       2  207\n",
      "2  sub32  no_caffeine       3  365\n",
      "3  sub32  no_caffeine       4  286\n",
      "4  sub32  no_caffeine       5  199\n",
      "     sub    condition  trials   RT\n",
      "0  sub33  no_caffeine       1  309\n",
      "1  sub33  no_caffeine       2  240\n",
      "2  sub33  no_caffeine       3  340\n",
      "3  sub33  no_caffeine       4  374\n",
      "4  sub33  no_caffeine       5  229\n",
      "     sub    condition  trials   RT\n",
      "0  sub34  no_caffeine       1  268\n",
      "1  sub34  no_caffeine       2  189\n",
      "2  sub34  no_caffeine       3  357\n",
      "3  sub34  no_caffeine       4  191\n",
      "4  sub34  no_caffeine       5  248\n",
      "     sub    condition  trials   RT\n",
      "0  sub35  no_caffeine       1  348\n",
      "1  sub35  no_caffeine       2  211\n",
      "2  sub35  no_caffeine       3  395\n",
      "3  sub35  no_caffeine       4  235\n",
      "4  sub35  no_caffeine       5  357\n",
      "     sub    condition  trials   RT\n",
      "0  sub36  no_caffeine       1  371\n",
      "1  sub36  no_caffeine       2  301\n",
      "2  sub36  no_caffeine       3  217\n",
      "3  sub36  no_caffeine       4  242\n",
      "4  sub36  no_caffeine       5  237\n",
      "     sub    condition  trials   RT\n",
      "0  sub37  no_caffeine       1  341\n",
      "1  sub37  no_caffeine       2  346\n",
      "2  sub37  no_caffeine       3  218\n",
      "3  sub37  no_caffeine       4  290\n",
      "4  sub37  no_caffeine       5  217\n",
      "     sub    condition  trials   RT\n",
      "0  sub38  no_caffeine       1  388\n",
      "1  sub38  no_caffeine       2  338\n",
      "2  sub38  no_caffeine       3  266\n",
      "3  sub38  no_caffeine       4  243\n",
      "4  sub38  no_caffeine       5  397\n",
      "     sub    condition  trials   RT\n",
      "0  sub39  no_caffeine       1  313\n",
      "1  sub39  no_caffeine       2  377\n",
      "2  sub39  no_caffeine       3  348\n",
      "3  sub39  no_caffeine       4  207\n",
      "4  sub39  no_caffeine       5  367\n",
      "     sub    condition  trials   RT\n",
      "0  sub40  no_caffeine       1  329\n",
      "1  sub40  no_caffeine       2  344\n",
      "2  sub40  no_caffeine       3  345\n",
      "3  sub40  no_caffeine       4  299\n",
      "4  sub40  no_caffeine       5  184\n"
     ]
    }
   ],
   "source": [
    "for i in sub_paths:\n",
    "    pvt=pd.read_csv(i)\n",
    "    print(pvt.head())\n",
    "    #pvt_all=pd.concat(pvt_all,pvt) #rbind with combine the data by rows"
   ]
  },
  {
   "cell_type": "code",
   "execution_count": null,
   "metadata": {
    "collapsed": true
   },
   "outputs": [],
   "source": [
    "#basic statistical analyses\n",
    "\n",
    "# correlations\n"
   ]
  }
 ],
 "metadata": {
  "kernelspec": {
   "display_name": "Python 2",
   "language": "python",
   "name": "python2"
  },
  "language_info": {
   "codemirror_mode": {
    "name": "ipython",
    "version": 2
   },
   "file_extension": ".py",
   "mimetype": "text/x-python",
   "name": "python",
   "nbconvert_exporter": "python",
   "pygments_lexer": "ipython2",
   "version": "2.7.13"
  }
 },
 "nbformat": 4,
 "nbformat_minor": 2
}
